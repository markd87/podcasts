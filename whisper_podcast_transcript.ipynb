{
  "cells": [
    {
      "cell_type": "markdown",
      "metadata": {
        "id": "view-in-github",
        "colab_type": "text"
      },
      "source": [
        "<a href=\"https://colab.research.google.com/github/markd87/podcasts/blob/main/whisper_podcast_transcript.ipynb\" target=\"_parent\"><img src=\"https://colab.research.google.com/assets/colab-badge.svg\" alt=\"Open In Colab\"/></a>"
      ]
    },
    {
      "cell_type": "code",
      "execution_count": null,
      "metadata": {
        "id": "7j5uLcJaJcPC"
      },
      "outputs": [],
      "source": [
        "from IPython.display import HTML, IFrame"
      ]
    },
    {
      "cell_type": "code",
      "execution_count": null,
      "metadata": {
        "id": "Qgk4UmpMILbK"
      },
      "outputs": [],
      "source": [
        "# install whisper\n",
        "!pip install --quiet git+https://github.com/openai/whisper.git\n",
        "\n",
        "# install youtube downloader\n",
        "!pip install --quiet yt-dlp"
      ]
    },
    {
      "cell_type": "code",
      "execution_count": null,
      "metadata": {
        "cellView": "form",
        "id": "g6Ww0rV2IMDY"
      },
      "outputs": [],
      "source": [
        "#@title Podcast youtube video ID\n",
        "\n",
        "youtube_id = \"Gfr50f6ZBvo\" #@param {type:\"string\"}"
      ]
    },
    {
      "cell_type": "code",
      "execution_count": null,
      "metadata": {
        "colab": {
          "base_uri": "https://localhost:8080/",
          "height": 336
        },
        "id": "xBFGy2LcJ_i4",
        "outputId": "6af78b72-11de-4d9b-9e89-ea140cb69d1f"
      },
      "outputs": [
        {
          "data": {
            "text/html": [
              "\n",
              "        <iframe\n",
              "            width=\"560\"\n",
              "            height=\"315\"\n",
              "            src=\"https://www.youtube.com/embed/Gfr50f6ZBvo\"\n",
              "            frameborder=\"0\"\n",
              "            allowfullscreen\n",
              "        ></iframe>\n",
              "        "
            ],
            "text/plain": [
              "<IPython.lib.display.IFrame at 0x7f274f111c10>"
            ]
          },
          "execution_count": 22,
          "metadata": {},
          "output_type": "execute_result"
        }
      ],
      "source": [
        "IFrame(src=f\"https://www.youtube.com/embed/{youtube_id}\", width=560, height=315)"
      ]
    },
    {
      "cell_type": "code",
      "execution_count": null,
      "metadata": {
        "colab": {
          "base_uri": "https://localhost:8080/"
        },
        "id": "aoJKMeOUH4gQ",
        "outputId": "1e64d885-aa7b-4ae3-b3c6-dcff30448667"
      },
      "outputs": [
        {
          "name": "stdout",
          "output_type": "stream",
          "text": [
            "[youtube] Gfr50f6ZBvo: Downloading webpage\n",
            "[youtube] Gfr50f6ZBvo: Downloading android player API JSON\n",
            "[info] Gfr50f6ZBvo: Downloading 1 format(s): 140\n",
            "[download] Destination: Gfr50f6ZBvo.m4a\n",
            "\u001b[K[download] 100% of  120.98MiB in \u001b[1;37m00:00:05\u001b[0m at \u001b[0;32m20.82MiB/s\u001b[0m\n",
            "[FixupM4a] Correcting container of \"Gfr50f6ZBvo.m4a\"\n"
          ]
        }
      ],
      "source": [
        "# get youtube video audio\n",
        "\n",
        "!yt-dlp https://www.youtube.com/watch?v=$youtube_id --format m4a -o \"%(id)s.%(ext)s\""
      ]
    },
    {
      "cell_type": "code",
      "execution_count": null,
      "metadata": {
        "id": "ye-WfVImLuO7"
      },
      "outputs": [],
      "source": [
        "audio_file = f\"/content/{youtube_id}.m4a\""
      ]
    },
    {
      "cell_type": "code",
      "execution_count": null,
      "metadata": {
        "colab": {
          "base_uri": "https://localhost:8080/",
          "height": 35
        },
        "id": "YxIceDHjLxXD",
        "outputId": "b6272a38-2516-4779-d4f0-5eb33447171c"
      },
      "outputs": [
        {
          "data": {
            "application/vnd.google.colaboratory.intrinsic+json": {
              "type": "string"
            },
            "text/plain": [
              "'/content/Gfr50f6ZBvo.m4a'"
            ]
          },
          "execution_count": 32,
          "metadata": {},
          "output_type": "execute_result"
        }
      ],
      "source": [
        "audio_file"
      ]
    },
    {
      "cell_type": "code",
      "execution_count": null,
      "metadata": {
        "colab": {
          "background_save": true,
          "base_uri": "https://localhost:8080/"
        },
        "id": "o_Kschh0IYHQ",
        "outputId": "e52b5c1d-745f-4be7-b91e-76751782cef6"
      },
      "outputs": [
        {
          "name": "stdout",
          "output_type": "stream",
          "text": [
            "tcmalloc: large alloc 3087007744 bytes == 0xb2c4000 @  0x7f72d7a361e7 0x4b2590 0x5ad01c 0x5dcfef 0x58f92b 0x590c33 0x5e48ac 0x4d20fa 0x51041f 0x58fd37 0x50c4fc 0x5b4ee6 0x58ff2e 0x50d482 0x58fd37 0x50c4fc 0x5b4ee6 0x6005a3 0x607796 0x60785c 0x60a436 0x64db82 0x64dd2e 0x7f72d7633c87 0x5b636a\n",
            "/usr/local/lib/python3.7/dist-packages/whisper/transcribe.py:78: UserWarning: FP16 is not supported on CPU; using FP32 instead\n",
            "  warnings.warn(\"FP16 is not supported on CPU; using FP32 instead\")\n",
            "tcmalloc: large alloc 1254178816 bytes == 0x26f98a000 @  0x7f72d7a18b6b 0x7f72d7a38379 0x7f7267d49d57 0x7f7267d37bc3 0x7f7291c426af 0x7f7291c43020 0x7f7291c43074 0x7f7291c431bf 0x7f72929ca82b 0x7f7292a39c36 0x7f7291c881cf 0x7f7291c89b83 0x7f7291c8aea2 0x7f72929f5ae5 0x7f72929f5b50 0x7f729249665c 0x7f7293a49e39 0x7f7293a4a8b3 0x7f72924dba54 0x7f72920f43ec 0x7f7292c163f8 0x7f7292877959 0x7f72920f16db 0x7f7292c16398 0x7f72928773a9 0x7f72b99d28fc 0x58f6e4 0x5105e2 0x5b4ee6 0x58ff2e 0x50d482\n",
            "[00:00.000 --> 00:03.480]  The following is a conversation with Demis Hassabis,\n",
            "[00:03.480 --> 00:06.720]  CEO and co-founder of DeepMind,\n",
            "[00:06.720 --> 00:08.600]  a company that has published and built\n",
            "[00:08.600 --> 00:12.200]  some of the most incredible artificial intelligence systems\n",
            "[00:12.200 --> 00:14.120]  in the history of computing,\n",
            "[00:14.120 --> 00:18.040]  including AlphaZero that learned all by itself\n",
            "[00:18.040 --> 00:21.000]  to play the game of Go better than any human in the world\n",
            "[00:21.000 --> 00:25.760]  and AlphaFold2 that solved protein folding.\n",
            "[00:25.760 --> 00:28.800]  Both tasks considered nearly impossible\n",
            "[00:28.800 --> 00:30.360]  for a very long time.\n",
            "[00:31.240 --> 00:33.040]  Demis is widely considered to be\n",
            "[00:33.040 --> 00:35.720]  one of the most brilliant and impactful humans\n",
            "[00:35.720 --> 00:38.160]  in the history of artificial intelligence\n",
            "[00:38.160 --> 00:41.280]  and science and engineering in general.\n",
            "[00:41.280 --> 00:44.640]  This was truly an honor and a pleasure for me\n",
            "[00:44.640 --> 00:47.400]  to finally sit down with him for this conversation.\n",
            "[00:47.400 --> 00:50.600]  And I'm sure we will talk many times again in the future.\n",
            "[00:51.520 --> 00:53.320]  This is the Lux Read One podcast.\n",
            "[00:53.320 --> 00:55.520]  To support it, please check out our sponsors\n",
            "[00:55.520 --> 00:56.800]  in the description.\n"
          ]
        }
      ],
      "source": [
        "# transcribe\n",
        "\n",
        "!whisper {audio_file} --model large --language English"
      ]
    },
    {
      "cell_type": "code",
      "execution_count": null,
      "metadata": {
        "id": "wyoP_fWeKzz9"
      },
      "outputs": [],
      "source": []
    }
  ],
  "metadata": {
    "accelerator": "GPU",
    "colab": {
      "provenance": [],
      "authorship_tag": "ABX9TyMhv+vqYYFQM79urJ4s1yg7",
      "include_colab_link": true
    },
    "gpuClass": "standard",
    "kernelspec": {
      "display_name": "Python 3",
      "name": "python3"
    },
    "language_info": {
      "name": "python"
    }
  },
  "nbformat": 4,
  "nbformat_minor": 0
}